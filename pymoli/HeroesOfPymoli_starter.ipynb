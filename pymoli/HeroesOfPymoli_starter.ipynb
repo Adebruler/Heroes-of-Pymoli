{
 "cells": [
  {
   "cell_type": "markdown",
   "metadata": {},
   "source": [
    "### Heroes Of Pymoli Data Analysis\n",
    "* The age ranges with the highest average spending per user are 35-39 (4.76 USD), <10 (4.56 USD), and 20-24 (4.32 USD). This trimodal distribution is unusual, but it could be explained by a combined higher income and lower time availability for the oldest users, a low skill for the youngest users, and a competitive motivation to spend for the college-aged users.\n",
    "\n",
    "* The items which produced the most revenue were more expensive than the average purchase price of the customers. This suggests that item quality and functionality has the potential for more profits than bargain, opportunistic cheaper transactions. This is also supported by the fact that the median purchase price is above the mean purchase price (most sales are above the average purchase price). \n",
    "\n",
    "* However, it is worth nothing that having weak, inexpensive items on the market may set a baseline that increases the the perceived value of powerful items, and--because they are further below the average than the most expensive items--each purchase lowers the average purchase price more than the most expensive item would raise it.\n",
    "-----"
   ]
  },
  {
   "cell_type": "markdown",
   "metadata": {},
   "source": [
    "### Note\n",
    "* Instructions have been included for each segment. You do not have to follow them exactly, but they are included to help you think through the steps."
   ]
  },
  {
   "cell_type": "code",
   "execution_count": null,
   "metadata": {},
   "outputs": [],
   "source": [
    "# Dependencies and Setup\n",
    "import pandas as pd\n",
    "import numpy as np\n",
    "\n",
    "# File to Load (Remember to Change These)\n",
    "file_to_load = \"Resources/purchase_data.csv\"\n",
    "\n",
    "# Read Purchasing File and store into Pandas data frame\n",
    "purchase_data = pd.read_csv(file_to_load)"
   ]
  },
  {
   "cell_type": "code",
   "execution_count": null,
   "metadata": {},
   "outputs": [],
   "source": [
    "purchase_data.head()"
   ]
  },
  {
   "cell_type": "markdown",
   "metadata": {},
   "source": [
    "## Player Count"
   ]
  },
  {
   "cell_type": "markdown",
   "metadata": {},
   "source": [
    "* Display the total number of players\n"
   ]
  },
  {
   "cell_type": "code",
   "execution_count": null,
   "metadata": {},
   "outputs": [],
   "source": [
    "player_count=len(purchase_data[\"SN\"].unique())\n",
    "pd.DataFrame({\"Total Players\" : [player_count]})"
   ]
  },
  {
   "cell_type": "markdown",
   "metadata": {},
   "source": [
    "## Purchasing Analysis (Total)"
   ]
  },
  {
   "cell_type": "markdown",
   "metadata": {},
   "source": [
    "* Run basic calculations to obtain number of unique items, average price, etc.\n",
    "\n",
    "\n",
    "* Create a summary data frame to hold the results\n",
    "\n",
    "\n",
    "* Optional: give the displayed data cleaner formatting\n",
    "\n",
    "\n",
    "* Display the summary data frame\n"
   ]
  },
  {
   "cell_type": "code",
   "execution_count": null,
   "metadata": {
    "scrolled": true
   },
   "outputs": [],
   "source": [
    "item_count=len(purchase_data[\"Item Name\"].unique())\n",
    "revenue=purchase_data[\"Price\"].sum()\n",
    "avg_price=purchase_data[\"Price\"].mean()\n",
    "purchase_count=purchase_data[\"Purchase ID\"].count()\n",
    "revenue_summary=pd.DataFrame({\"Number of Unique Items\":[item_count],\"Average Price\":[avg_price],\"Number of Purchases\":[purchase_count],\"Total Revenue\":[revenue]})\n",
    "revenue_summary[\"Average Price\"] = revenue_summary[\"Average Price\"].map('${:,.2f}'.format)\n",
    "revenue_summary[\"Total Revenue\"] = revenue_summary[\"Total Revenue\"].map('${:,.2f}'.format)\n",
    "revenue_summary"
   ]
  },
  {
   "cell_type": "markdown",
   "metadata": {},
   "source": [
    "## Gender Demographics"
   ]
  },
  {
   "cell_type": "markdown",
   "metadata": {},
   "source": [
    "* Percentage and Count of Male Players\n",
    "\n",
    "\n",
    "* Percentage and Count of Female Players\n",
    "\n",
    "\n",
    "* Percentage and Count of Other / Non-Disclosed\n",
    "\n",
    "\n"
   ]
  },
  {
   "cell_type": "code",
   "execution_count": null,
   "metadata": {},
   "outputs": [],
   "source": [
    "gender_count=purchase_data.groupby([\"Gender\"])[\"SN\"].nunique()\n",
    "gender_demo=pd.DataFrame(gender_count)\n",
    "gender_frac=gender_count/player_count*100\n",
    "gender_demo[\"Percentage of Players\"]=gender_frac\n",
    "gender_demo=gender_demo.rename(columns={\"SN\":\"Total Count\"})\n",
    "gender_demo[\"Percentage of Players\"]=gender_demo[\"Percentage of Players\"].map('{:,.2f}%'.format)\n",
    "gender_demo"
   ]
  },
  {
   "cell_type": "markdown",
   "metadata": {},
   "source": [
    "\n",
    "## Purchasing Analysis (Gender)"
   ]
  },
  {
   "cell_type": "markdown",
   "metadata": {},
   "source": [
    "* Run basic calculations to obtain purchase count, avg. purchase price, avg. purchase total per person etc. by gender\n",
    "\n",
    "\n",
    "\n",
    "\n",
    "* Create a summary data frame to hold the results\n",
    "\n",
    "\n",
    "* Optional: give the displayed data cleaner formatting\n",
    "\n",
    "\n",
    "* Display the summary data frame"
   ]
  },
  {
   "cell_type": "code",
   "execution_count": null,
   "metadata": {
    "scrolled": true
   },
   "outputs": [],
   "source": [
    "gender_group=purchase_data.groupby(\"Gender\")\n",
    "gender_summary=gender_group.count()\n",
    "gender_mean=gender_group.mean()\n",
    "gender_total=gender_group.sum()\n",
    "# gender_summary=pd.merge(gender_counted[\"Purchase ID\"],gender_mean[\"Price\"],gender_total[\"Price\"],on=\"Gender\")\n",
    "gender_summary[\"Total Count\"]=gender_summary[\"Purchase ID\"]\n",
    "gender_summary[\"Average Purchase Price\"]=gender_mean[\"Price\"]\n",
    "gender_summary[\"Total Purchase Value\"]=gender_total[\"Price\"]\n",
    "gender_summary=gender_summary.drop(columns=[\"Purchase ID\",\"SN\",\"Age\",\"Item ID\",\"Item Name\",\"Price\"])\n",
    "gender_summary[\"Avg Total Purchase per Person\"]=gender_summary[\"Total Purchase Value\"]/gender_demo[\"Total Count\"]\n",
    "gender_summary[\"Average Purchase Price\"] = gender_summary[\"Average Purchase Price\"].map('${:,.2f}'.format)\n",
    "gender_summary[\"Total Purchase Value\"] = gender_summary[\"Total Purchase Value\"].map('${:,.2f}'.format)\n",
    "gender_summary[\"Avg Total Purchase per Person\"]=gender_summary[\"Avg Total Purchase per Person\"].map('${:,.2f}'.format)\n",
    "gender_summary"
   ]
  },
  {
   "cell_type": "markdown",
   "metadata": {},
   "source": [
    "## Age Demographics"
   ]
  },
  {
   "cell_type": "markdown",
   "metadata": {},
   "source": [
    "* Establish bins for ages\n",
    "\n",
    "\n",
    "* Categorize the existing players using the age bins. Hint: use pd.cut()\n",
    "\n",
    "\n",
    "* Calculate the numbers and percentages by age group\n",
    "\n",
    "\n",
    "* Create a summary data frame to hold the results\n",
    "\n",
    "\n",
    "* Optional: round the percentage column to two decimal points\n",
    "\n",
    "\n",
    "* Display Age Demographics Table\n"
   ]
  },
  {
   "cell_type": "code",
   "execution_count": null,
   "metadata": {},
   "outputs": [],
   "source": [
    "# Establish bins for ages\n",
    "bins=[0,9,14,19,24,29,34,39,100]\n",
    "age_labels=['<10','10-14','15-19','20-24','25-29','30-34','35-39','40+']\n",
    "# Categorize the existing players using the age bins. Hint: use pd.cut()\n",
    "purchase_data[\"Age Range\"]=pd.cut(purchase_data[\"Age\"], bins, labels=age_labels)\n",
    "\n",
    "# Calculate the numbers and percentages by age group\n",
    "age_grouped=purchase_data.groupby(\"Age Range\")\n",
    "purchase_age_count=pd.DataFrame(age_grouped.count()[\"Purchase ID\"])\n",
    "purchase_age_count=purchase_age_count.rename(columns={\"Purchase ID\":\"Total Count\"})\n",
    "purchase_age_count[\"Percentage of Players\"]=purchase_age_count[\"Total Count\"]/player_count*100\n",
    "purchase_age_count[\"Percentage of Players\"] = purchase_age_count[\"Percentage of Players\"].map('{:.2f}%'.format)\n",
    "purchase_age_count\n",
    "# Create a summary data frame to hold the results\n",
    "\n",
    "\n",
    "# Optional: round the percentage column to two decimal points\n",
    "\n",
    "\n",
    "# Display Age Demographics Table"
   ]
  },
  {
   "cell_type": "markdown",
   "metadata": {},
   "source": [
    "## Purchasing Analysis (Age)"
   ]
  },
  {
   "cell_type": "markdown",
   "metadata": {},
   "source": [
    "* Bin the purchase_data data frame by age\n",
    "\n",
    "\n",
    "* Run basic calculations to obtain purchase count, avg. purchase price, avg. purchase total per person etc. in the table below\n",
    "\n",
    "\n",
    "* Create a summary data frame to hold the results\n",
    "\n",
    "\n",
    "* Optional: give the displayed data cleaner formatting\n",
    "\n",
    "\n",
    "* Display the summary data frame"
   ]
  },
  {
   "cell_type": "code",
   "execution_count": null,
   "metadata": {},
   "outputs": [],
   "source": [
    "age_summary=pd.DataFrame(purchase_age_count[\"Total Count\"])\n",
    "age_mean=age_grouped.mean()\n",
    "age_total=age_grouped.sum()\n",
    "# gender_summary=pd.merge(gender_counted[\"Purchase ID\"],gender_mean[\"Price\"],gender_total[\"Price\"],on=\"Gender\")\n",
    "# gender_summary[\"Total Count\"]=gender_summary[\"Purchase ID\"]\n",
    "age_summary[\"Average Purchase Price\"]=age_mean[\"Price\"]\n",
    "age_summary[\"Total Purchase Value\"]=age_total[\"Price\"]\n",
    "age_summary=age_summary.rename(columns={\"Total Count\":\"Purchase Count\"})\n",
    "age_demo=purchase_data.groupby([\"Age Range\"])[\"SN\"].nunique()\n",
    "age_summary[\"Avg Total Purchase per Person\"]=age_summary[\"Total Purchase Value\"]/age_demo\n",
    "age_summary[\"Average Purchase Price\"] = age_summary[\"Average Purchase Price\"].map('${:,.2f}'.format)\n",
    "age_summary[\"Total Purchase Value\"] = age_summary[\"Total Purchase Value\"].map('${:,.2f}'.format)\n",
    "age_summary[\"Avg Total Purchase per Person\"]=age_summary[\"Avg Total Purchase per Person\"].map('${:,.2f}'.format)\n",
    "age_summary"
   ]
  },
  {
   "cell_type": "markdown",
   "metadata": {},
   "source": [
    "## Top Spenders"
   ]
  },
  {
   "cell_type": "markdown",
   "metadata": {},
   "source": [
    "* Run basic calculations to obtain the results in the table below\n",
    "\n",
    "\n",
    "* Create a summary data frame to hold the results\n",
    "\n",
    "\n",
    "* Sort the total purchase value column in descending order\n",
    "\n",
    "\n",
    "* Optional: give the displayed data cleaner formatting\n",
    "\n",
    "\n",
    "* Display a preview of the summary data frame\n",
    "\n"
   ]
  },
  {
   "cell_type": "code",
   "execution_count": null,
   "metadata": {},
   "outputs": [],
   "source": [
    "spend_group=purchase_data.groupby(\"SN\")\n",
    "spend_summary=pd.DataFrame(spend_group.count()[\"Purchase ID\"])\n",
    "spend_summary[\"Average Purchase Price\"]=spend_group.mean()[\"Price\"]\n",
    "spend_summary[\"Total Purchase Value\"]=spend_group.sum()[\"Price\"]\n",
    "spend_summary=spend_summary.sort_values(by=\"Total Purchase Value\",ascending=False)\n",
    "spend_summary[\"Total Purchase Value\"] = spend_summary[\"Total Purchase Value\"].map('${:,.2f}'.format)\n",
    "spend_summary[\"Average Purchase Price\"]=spend_summary[\"Average Purchase Price\"].map('${:,.2f}'.format)\n",
    "spend_summary=spend_summary.rename(columns={\"Purchase ID\":\"Purchase Count\"})\n",
    "\n",
    "\n",
    "spend_summary.head()"
   ]
  },
  {
   "cell_type": "markdown",
   "metadata": {},
   "source": [
    "## Most Popular Items"
   ]
  },
  {
   "cell_type": "markdown",
   "metadata": {},
   "source": [
    "* Retrieve the Item ID, Item Name, and Item Price columns\n",
    "\n",
    "\n",
    "* Group by Item ID and Item Name. Perform calculations to obtain purchase count, item price, and total purchase value\n",
    "\n",
    "\n",
    "* Create a summary data frame to hold the results\n",
    "\n",
    "\n",
    "* Sort the purchase count column in descending order\n",
    "\n",
    "\n",
    "* Optional: give the displayed data cleaner formatting\n",
    "\n",
    "\n",
    "* Display a preview of the summary data frame\n",
    "\n"
   ]
  },
  {
   "cell_type": "code",
   "execution_count": null,
   "metadata": {},
   "outputs": [],
   "source": [
    "item_group=purchase_data.groupby([\"Item ID\",\"Item Name\"])\n",
    "item_summary=pd.DataFrame(item_group.count()[\"Purchase ID\"])\n",
    "item_summary[\"Item Price\"]=item_group.mean()[\"Price\"]\n",
    "item_summary[\"Total Purchase Value\"]=item_group.sum()[\"Price\"]\n",
    "item_summary=item_summary.rename(columns={\"Purchase ID\":\"Purchase Count\"})\n",
    "\n",
    "item_summary.head()"
   ]
  },
  {
   "cell_type": "markdown",
   "metadata": {},
   "source": [
    "## Most Profitable Items"
   ]
  },
  {
   "cell_type": "markdown",
   "metadata": {},
   "source": [
    "* Sort the above table by total purchase value in descending order\n",
    "\n",
    "\n",
    "* Optional: give the displayed data cleaner formatting\n",
    "\n",
    "\n",
    "* Display a preview of the data frame\n",
    "\n"
   ]
  },
  {
   "cell_type": "code",
   "execution_count": null,
   "metadata": {
    "scrolled": true
   },
   "outputs": [],
   "source": [
    "item_summary=item_summary.sort_values(by=\"Total Purchase Value\",ascending=False)\n",
    "item_summary[\"Total Purchase Value\"] = item_summary[\"Total Purchase Value\"].map('${:,.2f}'.format)\n",
    "item_summary[\"Item Price\"] = item_summary[\"Item Price\"].map('${:,.2f}'.format)\n",
    "\n",
    "item_summary.head()"
   ]
  },
  {
   "cell_type": "code",
   "execution_count": null,
   "metadata": {},
   "outputs": [],
   "source": [
    "median_purchase=purchase_data[\"Price\"].median()\n",
    "median_purchase"
   ]
  },
  {
   "cell_type": "code",
   "execution_count": null,
   "metadata": {},
   "outputs": [],
   "source": []
  },
  {
   "cell_type": "code",
   "execution_count": null,
   "metadata": {},
   "outputs": [],
   "source": []
  }
 ],
 "metadata": {
  "anaconda-cloud": {},
  "kernel_info": {
   "name": "python3"
  },
  "kernelspec": {
   "display_name": "Python 3",
   "language": "python",
   "name": "python3"
  },
  "language_info": {
   "codemirror_mode": {
    "name": "ipython",
    "version": 3
   },
   "file_extension": ".py",
   "mimetype": "text/x-python",
   "name": "python",
   "nbconvert_exporter": "python",
   "pygments_lexer": "ipython3",
   "version": "3.6.5"
  },
  "nteract": {
   "version": "0.2.0"
  }
 },
 "nbformat": 4,
 "nbformat_minor": 2
}
